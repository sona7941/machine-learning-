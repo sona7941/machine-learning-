{
 "cells": [
  {
   "cell_type": "markdown",
   "metadata": {},
   "source": [
    "## California Housing Dataset & Feature Selection\n"
   ]
  },
  {
   "cell_type": "markdown",
   "metadata": {},
   "source": [
    "### Fetching dataset"
   ]
  },
  {
   "cell_type": "code",
   "execution_count": 7,
   "metadata": {},
   "outputs": [
    {
     "name": "stdout",
     "output_type": "stream",
     "text": [
      "Feature names: ['MedInc', 'HouseAge', 'AveRooms', 'AveBedrms', 'Population', 'AveOccup', 'Latitude', 'Longitude']\n",
      "Data shape: (20640, 8)\n"
     ]
    }
   ],
   "source": [
    "import numpy as np\n",
    "import pandas as pd\n",
    "from sklearn.datasets import fetch_california_housing\n",
    "from sklearn.feature_selection import VarianceThreshold\n",
    "\n",
    "# Download the dataset as a pandas DataFrame.\n",
    "data = fetch_california_housing(as_frame=True)\n",
    "df = data.frame\n",
    "\n",
    "# Separate features and target.\n",
    "X = df.drop('MedHouseVal', axis=1)\n",
    "y = df['MedHouseVal']\n",
    "\n",
    "print(\"Feature names:\", X.columns.tolist())\n",
    "print(\"Data shape:\", X.shape)"
   ]
  },
  {
   "cell_type": "markdown",
   "metadata": {},
   "source": [
    "### Variance Threshold Filtering"
   ]
  },
  {
   "cell_type": "code",
   "execution_count": 8,
   "metadata": {},
   "outputs": [
    {
     "name": "stdout",
     "output_type": "stream",
     "text": [
      "[VarianceThreshold] With threshold=0.0, shape: (20640, 8)\n",
      "\n",
      "Variances of features:\n",
      " MedInc        3.609323e+00\n",
      "HouseAge      1.583963e+02\n",
      "AveRooms      6.121533e+00\n",
      "AveBedrms     2.245915e-01\n",
      "Population    1.282470e+06\n",
      "AveOccup      1.078700e+02\n",
      "Latitude      4.562293e+00\n",
      "Longitude     4.014139e+00\n",
      "dtype: float64\n",
      "\n",
      "[VarianceThreshold] With threshold=0.5, shape: (20640, 7)\n",
      "Features retained with VarianceThreshold (threshold=0.5): ['MedInc', 'HouseAge', 'AveRooms', 'Population', 'AveOccup', 'Latitude', 'Longitude']\n"
     ]
    }
   ],
   "source": [
    "# (a) Using the default threshold (0.0) - removes only constant features.\n",
    "vt_default = VarianceThreshold(threshold=0.0)\n",
    "X_vt_default = vt_default.fit_transform(X)\n",
    "print(\"[VarianceThreshold] With threshold=0.0, shape:\", X_vt_default.shape)\n",
    "\n",
    "# Check the variance of each feature to help decide on a threshold.\n",
    "variances = X.var()\n",
    "print(\"\\nVariances of features:\\n\", variances)\n",
    "\n",
    "# (b) Increasing the threshold to 0.5.\n",
    "vt_higher = VarianceThreshold(threshold=0.5)\n",
    "X_vt_higher = vt_higher.fit_transform(X)\n",
    "print(\"\\n[VarianceThreshold] With threshold=0.5, shape:\", X_vt_higher.shape)\n",
    "\n",
    "# Get the names of the features that pass the threshold.\n",
    "selected_features_vt = X.columns[vt_higher.get_support()]\n",
    "print(\"Features retained with VarianceThreshold (threshold=0.5):\", selected_features_vt.tolist())"
   ]
  },
  {
   "cell_type": "markdown",
   "metadata": {},
   "source": [
    "### Correlation Threshold Filtering"
   ]
  },
  {
   "cell_type": "code",
   "execution_count": 9,
   "metadata": {},
   "outputs": [
    {
     "name": "stdout",
     "output_type": "stream",
     "text": [
      "[Correlation Filter] Features dropped (threshold=0.8): ['AveBedrms', 'Longitude']\n",
      "Features retained (correlation threshold=0.8): ['MedInc', 'HouseAge', 'AveRooms', 'Population', 'AveOccup', 'Latitude']\n",
      "\n",
      "[Correlation Filter] Features dropped (threshold=0.6): ['AveBedrms', 'Longitude']\n",
      "Features retained (correlation threshold=0.6): ['MedInc', 'HouseAge', 'AveRooms', 'Population', 'AveOccup', 'Latitude']\n"
     ]
    }
   ],
   "source": [
    "def correlation_threshold_selector(X, threshold=0.8):\n",
    "    corr_matrix = X.corr().abs()\n",
    "    # Use only the upper triangle of the correlation matrix.\n",
    "    upper = corr_matrix.where(np.triu(np.ones(corr_matrix.shape), k=1).astype(bool))\n",
    "\n",
    "    # Identify columns that have any correlation above the threshold.\n",
    "    to_drop = [column for column in upper.columns if any(upper[column] > threshold)]\n",
    "    return to_drop\n",
    "\n",
    "# (a) Using a correlation threshold of 0.8.\n",
    "to_drop_08 = correlation_threshold_selector(X, threshold=0.8)\n",
    "print(\"[Correlation Filter] Features dropped (threshold=0.8):\", to_drop_08)\n",
    "selected_features_corr_08 = [col for col in X.columns if col not in to_drop_08]\n",
    "print(\"Features retained (correlation threshold=0.8):\", selected_features_corr_08)\n",
    "\n",
    "# (b) Using a stricter threshold of 0.6.\n",
    "to_drop_06 = correlation_threshold_selector(X, threshold=0.6)\n",
    "print(\"\\n[Correlation Filter] Features dropped (threshold=0.6):\", to_drop_06)\n",
    "selected_features_corr_06 = [col for col in X.columns if col not in to_drop_06]\n",
    "print(\"Features retained (correlation threshold=0.6):\", selected_features_corr_06)"
   ]
  },
  {
   "cell_type": "markdown",
   "metadata": {},
   "source": [
    "### Mean Absolute Deviation (MAD) Filtering"
   ]
  },
  {
   "cell_type": "code",
   "execution_count": 10,
   "metadata": {},
   "outputs": [
    {
     "name": "stdout",
     "output_type": "stream",
     "text": [
      "Mean Absolute Deviation (MAD) for each feature:\n",
      " MedInc          1.401614\n",
      "HouseAge       10.551539\n",
      "AveRooms        1.117619\n",
      "AveBedrms       0.114093\n",
      "Population    714.237277\n",
      "AveOccup        0.748172\n",
      "Latitude        1.975024\n",
      "Longitude       1.830206\n",
      "dtype: float64\n",
      "\n",
      "[MAD Filter] Features retained (MAD threshold=0.5): ['MedInc', 'HouseAge', 'AveRooms', 'Population', 'AveOccup', 'Latitude', 'Longitude']\n",
      "[MAD Filter] Features retained (MAD threshold=1.0): ['MedInc', 'HouseAge', 'AveRooms', 'Population', 'Latitude', 'Longitude']\n"
     ]
    }
   ],
   "source": [
    "# Calculate the MAD for each feature manually.\n",
    "mad_values = X.apply(lambda col: np.mean(np.abs(col - col.mean())))\n",
    "print(\"Mean Absolute Deviation (MAD) for each feature:\\n\", mad_values)\n",
    "\n",
    "def mad_threshold_selector(X, threshold):\n",
    "    # Manually calculate MAD for each column.\n",
    "    mad_values = X.apply(lambda col: np.mean(np.abs(col - col.mean())))\n",
    "    selected_features = mad_values[mad_values >= threshold].index.tolist()\n",
    "    return selected_features\n",
    "\n",
    "# (a) Applying MAD threshold = 0.5.\n",
    "selected_features_mad_05 = mad_threshold_selector(X, threshold=0.5)\n",
    "print(\"\\n[MAD Filter] Features retained (MAD threshold=0.5):\", selected_features_mad_05)\n",
    "\n",
    "# (b) Increasing the threshold to 1.0.\n",
    "selected_features_mad_10 = mad_threshold_selector(X, threshold=1.0)\n",
    "print(\"[MAD Filter] Features retained (MAD threshold=1.0):\", selected_features_mad_10)"
   ]
  },
  {
   "cell_type": "markdown",
   "metadata": {},
   "source": [
    "### Information Gain / Mutual Information for Feature Selection\n",
    "\n",
    "We use mutual information to assess the dependency between each feature and the target variable. Mutual information (MI) is a non-negative value that measures the amount of information obtained about one random variable (the target) through another random variable (the feature). A higher MI indicates a more informative feature.\n"
   ]
  },
  {
   "cell_type": "code",
   "execution_count": 11,
   "metadata": {},
   "outputs": [
    {
     "name": "stdout",
     "output_type": "stream",
     "text": [
      "Mutual Information Scores (unsorted):\n",
      "MedInc        0.387646\n",
      "HouseAge      0.032114\n",
      "AveRooms      0.103623\n",
      "AveBedrms     0.024482\n",
      "Population    0.021994\n",
      "AveOccup      0.072549\n",
      "Latitude      0.370657\n",
      "Longitude     0.401820\n",
      "dtype: float64\n",
      "\n",
      "Mutual Information Scores (sorted):\n",
      "Longitude     0.401820\n",
      "MedInc        0.387646\n",
      "Latitude      0.370657\n",
      "AveRooms      0.103623\n",
      "AveOccup      0.072549\n",
      "HouseAge      0.032114\n",
      "AveBedrms     0.024482\n",
      "Population    0.021994\n",
      "dtype: float64\n"
     ]
    }
   ],
   "source": [
    "from sklearn.feature_selection import mutual_info_regression\n",
    "\n",
    "# Compute the mutual information scores between each feature and the target.\n",
    "mi_scores = mutual_info_regression(X, y, random_state=0)\n",
    "mi_series = pd.Series(mi_scores, index=X.columns)\n",
    "\n",
    "print(\"Mutual Information Scores (unsorted):\")\n",
    "print(mi_series)\n",
    "\n",
    "# Sort the scores in descending order for better visualization.\n",
    "mi_series_sorted = mi_series.sort_values(ascending=False)\n",
    "print(\"\\nMutual Information Scores (sorted):\")\n",
    "print(mi_series_sorted)"
   ]
  },
  {
   "cell_type": "code",
   "execution_count": 12,
   "metadata": {},
   "outputs": [
    {
     "name": "stdout",
     "output_type": "stream",
     "text": [
      "\n",
      "Features selected with mutual information score >= 0.1:\n",
      "['MedInc', 'AveRooms', 'Latitude', 'Longitude']\n"
     ]
    }
   ],
   "source": [
    "# Define a threshold for selecting features.\n",
    "# (The threshold value is somewhat arbitrary and may need tuning based on your dataset.)\n",
    "mi_threshold = 0.1\n",
    "\n",
    "# Select features that have a mutual information score greater than or equal to the threshold.\n",
    "selected_features_mi = mi_series[mi_series >= mi_threshold].index.tolist()\n",
    "print(\"\\nFeatures selected with mutual information score >= {}:\".format(mi_threshold))\n",
    "print(selected_features_mi)"
   ]
  },
  {
   "cell_type": "markdown",
   "metadata": {},
   "source": [
    "## Overall Synthesis \n",
    "  - **`AveBedrms`** is consistently removed or deemed uninformative across all methods (variance, correlation, MAD, and MI), reinforcing its limited value.\n",
    "  - Although the **Correlation filter** removes **`Longitude`** due to high inter-feature correlation, the **MI analysis** shows that **`Longitude`** is one of the most informative features, indicating that even highly correlated features can be valuable predictors.\n",
    "\n",
    "- **Practical Implications:**  \n",
    "  - Combining these methods provides a more nuanced view of the data. It helps in balancing dimensionality reduction with the retention of informative features.\n",
    "  - Careful threshold tuning is essential to ensure that the final feature set is both non-redundant and rich in predictive content."
   ]
  }
 ],
 "metadata": {
  "kernelspec": {
   "display_name": "Python 3",
   "language": "python",
   "name": "python3"
  },
  "language_info": {
   "codemirror_mode": {
    "name": "ipython",
    "version": 3
   },
   "file_extension": ".py",
   "mimetype": "text/x-python",
   "name": "python",
   "nbconvert_exporter": "python",
   "pygments_lexer": "ipython3",
   "version": "3.13.0"
  }
 },
 "nbformat": 4,
 "nbformat_minor": 2
}
