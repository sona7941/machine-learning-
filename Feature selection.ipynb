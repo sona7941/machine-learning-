{
 "cells": [
  {
   "cell_type": "code",
   "execution_count": 2,
   "metadata": {},
   "outputs": [
    {
     "name": "stdout",
     "output_type": "stream",
     "text": [
      "Columns: ['fixed acidity', 'volatile acidity', 'citric acid', 'residual sugar', 'chlorides', 'free sulfur dioxide', 'total sulfur dioxide', 'density', 'pH', 'sulphates', 'alcohol', 'quality']\n"
     ]
    }
   ],
   "source": [
    "import pandas as pd\n",
    "\n",
    "# Load the Wine Quality dataset using the correct delimiter (semicolon)\n",
    "df = pd.read_csv(r\"C:\\Users\\sonam\\Downloads\\winequality-red.csv\", sep=\";\")\n",
    "\n",
    "# Clean column names in case of extra quotes or spaces\n",
    "df.columns = df.columns.str.replace('\"', '').str.strip()\n",
    "\n",
    "# Verify that the columns are correctly parsed\n",
    "print(\"Columns:\", df.columns.tolist())\n",
    "\n",
    "\n"
   ]
  },
  {
   "cell_type": "markdown",
   "metadata": {},
   "source": [
    "We separate the features (X) from the target variable (y) and split the data into training and testing sets to avoid data leakage during the feature selection process"
   ]
  },
  {
   "cell_type": "code",
   "execution_count": 3,
   "metadata": {},
   "outputs": [],
   "source": [
    "# Clean column names by removing extra quotes and whitespace\n",
    "df.columns = df.columns.str.replace('\"', '').str.strip()\n",
    "\n",
    "# Separate features and target variable\n",
    "X = df.drop(\"quality\", axis=1)\n",
    "y = df[\"quality\"]\n",
    "\n",
    "# Split the dataset into training and testing sets\n",
    "from sklearn.model_selection import train_test_split\n",
    "X_train, X_test, y_train, y_test = train_test_split(X, y, test_size=0.2, random_state=42)\n"
   ]
  },
  {
   "cell_type": "markdown",
   "metadata": {},
   "source": [
    "a) Forward Selection\n",
    "Starts with an empty set of features and adds one feature at a time that maximally improves the model’s performance."
   ]
  },
  {
   "cell_type": "code",
   "execution_count": 4,
   "metadata": {},
   "outputs": [
    {
     "name": "stdout",
     "output_type": "stream",
     "text": [
      "Selected features (Forward Selection): ['volatile acidity', 'chlorides', 'total sulfur dioxide', 'sulphates', 'alcohol']\n"
     ]
    }
   ],
   "source": [
    "from sklearn.linear_model import LinearRegression\n",
    "from sklearn.feature_selection import SequentialFeatureSelector\n",
    "\n",
    "# Initialize a linear regression estimator\n",
    "estimator = LinearRegression()\n",
    "\n",
    "# Forward selection: start with no features, add one at a time\n",
    "sfs_forward = SequentialFeatureSelector(estimator, \n",
    "                                        n_features_to_select=5, \n",
    "                                        direction='forward',\n",
    "                                        cv=5,\n",
    "                                        n_jobs=-1)\n",
    "sfs_forward.fit(X_train, y_train)\n",
    "\n",
    "# Get selected features\n",
    "selected_features_forward = X_train.columns[sfs_forward.get_support()]\n",
    "print(\"Selected features (Forward Selection):\", selected_features_forward.tolist())\n",
    "\n",
    "\n"
   ]
  },
  {
   "cell_type": "markdown",
   "metadata": {},
   "source": [
    "backward selection-Starts with all features and removes one at a time—the least significant feature—until a desired number of features remains."
   ]
  },
  {
   "cell_type": "code",
   "execution_count": 5,
   "metadata": {},
   "outputs": [
    {
     "name": "stdout",
     "output_type": "stream",
     "text": [
      "Selected features (Backward Elimination): ['volatile acidity', 'chlorides', 'total sulfur dioxide', 'sulphates', 'alcohol']\n"
     ]
    }
   ],
   "source": [
    "# Backward elimination: start with all features, remove one at a time\n",
    "sfs_backward = SequentialFeatureSelector(estimator, \n",
    "                                         n_features_to_select=5, \n",
    "                                         direction='backward',\n",
    "                                         cv=5,\n",
    "                                         n_jobs=-1)\n",
    "sfs_backward.fit(X_train, y_train)\n",
    "\n",
    "# Get selected features\n",
    "selected_features_backward = X_train.columns[sfs_backward.get_support()]\n",
    "print(\"Selected features (Backward Elimination):\", selected_features_backward.tolist())\n"
   ]
  },
  {
   "cell_type": "markdown",
   "metadata": {},
   "source": [
    " Recursive Feature Elimination (RFE)\n",
    "RFE works by recursively removing the least important feature based on the model’s coefficients until only the desired number of features remains."
   ]
  },
  {
   "cell_type": "code",
   "execution_count": 6,
   "metadata": {},
   "outputs": [
    {
     "name": "stdout",
     "output_type": "stream",
     "text": [
      "Selected features (RFE): ['volatile acidity', 'chlorides', 'density', 'pH', 'sulphates']\n"
     ]
    }
   ],
   "source": [
    "from sklearn.feature_selection import RFE\n",
    "\n",
    "# Initialize RFE with the linear regression estimator to select the top 5 features\n",
    "selector = RFE(estimator, n_features_to_select=5, step=1)\n",
    "selector = selector.fit(X_train, y_train)\n",
    "\n",
    "# Extract and print selected features from RFE\n",
    "selected_features_rfe = X_train.columns[selector.support_]\n",
    "print(\"Selected features (RFE):\", selected_features_rfe.tolist())\n"
   ]
  },
  {
   "cell_type": "markdown",
   "metadata": {},
   "source": [
    "Embedded methods perform feature selection as part of the model training process. In this study, we use LassoCV, which applies L1 regularization to shrink coefficients to zero for less important features."
   ]
  },
  {
   "cell_type": "code",
   "execution_count": null,
   "metadata": {},
   "outputs": [
    {
     "name": "stdout",
     "output_type": "stream",
     "text": [
      "Selected features (LassoCV): ['fixed acidity', 'volatile acidity', 'residual sugar', 'free sulfur dioxide', 'total sulfur dioxide', 'sulphates', 'alcohol']\n"
     ]
    }
   ],
   "source": [
    "from sklearn.linear_model import LassoCV\n",
    "\n",
    "# Use LassoCV to perform embedded feature selection with cross-validation\n",
    "lasso = LassoCV(cv=5, random_state=42).fit(X_train, y_train)\n",
    "\n",
    "# Create a series with feature coefficients\n",
    "coef = pd.Series(lasso.coef_, index=X_train.columns)\n",
    "\n",
    "# Select features with non-zero coefficients\n",
    "selected_features_lasso = coef[coef != 0].index\n",
    "print(\"Selected features (LassoCV):\", list(selected_features_lasso))\n",
    "\n"
   ]
  },
  {
   "cell_type": "markdown",
   "metadata": {},
   "source": [
    "Visualizing the Lasso coefficients can help interpret the relative importance of each feature."
   ]
  },
  {
   "cell_type": "code",
   "execution_count": null,
   "metadata": {},
   "outputs": [
    {
     "data": {
      "image/png": "[encoded data removed]",
      "text/plain": [
       "<Figure size 1000x500 with 1 Axes>"
      ]
     },
     "metadata": {},
     "output_type": "display_data"
    }
   ],
   "source": [
    "import matplotlib.pyplot as plt\n",
    "\n",
    "# Plot the coefficients from the Lasso model\n",
    "plt.figure(figsize=(10, 5))\n",
    "coef.plot(kind='bar')\n",
    "plt.title(\"Lasso Coefficients\")\n",
    "plt.xlabel(\"Features\")\n",
    "plt.ylabel(\"Coefficient Value\")\n",
    "plt.tight_layout()\n",
    "plt.show()\n"
   ]
  },
  {
   "cell_type": "markdown",
   "metadata": {},
   "source": [
    "Inferences<br>\n",
    "Key Consistent Features:<br>\n",
    "Across all methods, volatile acidity, chlorides, and sulphates are consistently selected. This reinforces their importance in determining wine quality.\n",
    "\n",
    "Method-Specific Insights:<br>\n",
    "\n",
    "Wrapper Methods: Provide a concise and highly interpretable feature set, which is advantageous when model simplicity is desired.<br>\n",
    "RFE: Its divergence suggests sensitivity to the method of eliminating features based on coefficient stability.<br>\n",
    "LassoCV: Offers a more nuanced view by retaining additional features with small but non-zero impacts, potentially leading to improved predictive performance when these subtle effects are valuable.<br>\n",
    "Practical Implication:<br>\n",
    "The choice of feature selection method should depend on your goals. If you aim for the most interpretable model with a minimal set of features, the consensus from the wrapper methods is compelling. If your priority is to capture all influential signals—even those with modest effects—an embedded method like LassoCV may be preferable."
   ]
  }
 ],
 "metadata": {
  "kernelspec": {
   "display_name": "Python 3",
   "language": "python",
   "name": "python3"
  },
  "language_info": {
   "codemirror_mode": {
    "name": "ipython",
    "version": 3
   },
   "file_extension": ".py",
   "mimetype": "text/x-python",
   "name": "python",
   "nbconvert_exporter": "python",
   "pygments_lexer": "ipython3",
   "version": "3.13.0"
  }
 },
 "nbformat": 4,
 "nbformat_minor": 2
}
